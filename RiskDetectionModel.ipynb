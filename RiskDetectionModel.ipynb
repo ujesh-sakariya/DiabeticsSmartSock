{
 "cells": [
  {
   "cell_type": "code",
   "execution_count": 16,
   "id": "5fa5929d",
   "metadata": {},
   "outputs": [],
   "source": [
    "# import the libraries\n",
    "import pandas as pd\n",
    "import numpy as np"
   ]
  },
  {
   "cell_type": "markdown",
   "id": "1fdd4597",
   "metadata": {},
   "source": [
    "<h1>Create windows and extract features for training and testing data<h1>"
   ]
  },
  {
   "cell_type": "code",
   "execution_count": 17,
   "id": "93372900",
   "metadata": {},
   "outputs": [],
   "source": [
    "def extract_features(data):\n",
    "    '''Function to extract features from the data set'''\n",
    "    size = len(data)\n",
    "    parts = ['L_heel_','L_ball_','R_heel_','R_ball_']\n",
    "    rows = []\n",
    "    for i in range(0,size-30): # window size of 30 seconds overlapping one another\n",
    "        current = data.iloc[i:i+30,:]\n",
    "        # calculate features for window\n",
    "        features = {}\n",
    "    \n",
    "        for p in parts:\n",
    "        \n",
    "            features[p+'temp_mean'] = current[p+'temp'].mean()\n",
    "            features[p+'temp_std'] = current[p+'temp'].std()\n",
    "            features[p+'pressure_mean'] = current[p+'pressure'].mean()\n",
    "            features[p+'pressure_std'] = current[p+'pressure'].std()\n",
    "            features[p+'risk'] = current[p+'risk'].mode()[0]\n",
    "        \n",
    "        \n",
    "        features['CrossFootDifference_temp_heel'] = ((current['L_heel_temp'] - current['R_heel_temp']).mean())\n",
    "        features['CrossFootDifference_temp_ball'] = ((current['L_ball_temp'] - current['R_ball_temp']).mean())\n",
    "        features['CrossFootDifference_pressure_heel'] = ((current['L_heel_pressure'] - current['R_heel_pressure']).mean())\n",
    "        features['CrossFootDifference_pressure_ball'] = ((current['L_ball_pressure'] - current['R_ball_pressure']).mean())\n",
    "\n",
    "        rows.append(features)\n",
    "\n",
    "    features_df = pd.DataFrame(rows)\n",
    "    return features_df"
   ]
  },
  {
   "cell_type": "code",
   "execution_count": null,
   "id": "6f966f14",
   "metadata": {},
   "outputs": [],
   "source": [
    "# get the training data and testing data\n",
    "training_data = pd.read_csv('simulated_data_training.csv')\n",
    "training_data = extract_features(training_data)\n",
    "testing_data = pd.read_csv('simulated_data_testing.csv')\n",
    "testing_data = extract_features(testing_data)"
   ]
  }
 ],
 "metadata": {
  "kernelspec": {
   "display_name": ".venv",
   "language": "python",
   "name": "python3"
  },
  "language_info": {
   "codemirror_mode": {
    "name": "ipython",
    "version": 3
   },
   "file_extension": ".py",
   "mimetype": "text/x-python",
   "name": "python",
   "nbconvert_exporter": "python",
   "pygments_lexer": "ipython3",
   "version": "3.13.3"
  }
 },
 "nbformat": 4,
 "nbformat_minor": 5
}
